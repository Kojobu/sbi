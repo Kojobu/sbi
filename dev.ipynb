{
 "cells": [
  {
   "cell_type": "code",
   "execution_count": 1,
   "metadata": {},
   "outputs": [],
   "source": [
    "%load_ext autoreload\n",
    "%autoreload 2"
   ]
  },
  {
   "cell_type": "code",
   "execution_count": 3,
   "metadata": {},
   "outputs": [],
   "source": [
    "import torch\n",
    "\n",
    "from sbi.neural_nets.density_estimators.mdn import MDNDensityEstimator\n",
    "from sbi.neural_nets.factory import posterior_nn"
   ]
  },
  {
   "cell_type": "markdown",
   "metadata": {},
   "source": [
    "PR simplifies or makes redundant\n",
    "- https://github.com/sbi-dev/sbi/blob/3ca3e61422300270d492cead831459fb82c83713/sbi/neural_nets/factory.py#L252-L266\n",
    "- https://github.com/sbi-dev/sbi/blob/3ca3e61422300270d492cead831459fb82c83713/sbi/inference/snpe/snpe_a.py#L365\n",
    "- https://github.com/sbi-dev/sbi/blob/3ca3e61422300270d492cead831459fb82c83713/sbi/inference/snpe/snpe_c.py#L375\n",
    "- https://github.com/sbi-dev/sbi/blob/3ca3e61422300270d492cead831459fb82c83713/sbi/analysis/conditional_density.py#L186\n",
    "- needs to conform with zuko MDN\n",
    "- what are all the fancy input output normalizing checks that I need to add?\n",
    "    - atleast_2d_float32_tensor,\n",
    "    - merge_leading_dims,\n",
    "    - repeat_rows,\n",
    "    - split_leading_dim,"
   ]
  },
  {
   "cell_type": "code",
   "execution_count": 46,
   "metadata": {},
   "outputs": [],
   "source": [
    "theta = torch.randn(100, 2)\n",
    "x = torch.randn(100, 3)\n",
    "xo = torch.randn(1, 3)\n",
    "mdn = posterior_nn(\"mdn\")(theta, x)"
   ]
  },
  {
   "cell_type": "code",
   "execution_count": 47,
   "metadata": {},
   "outputs": [],
   "source": [
    "mdn_density_est = MDNDensityEstimator(mdn, mdn._condition_shape)"
   ]
  },
  {
   "cell_type": "code",
   "execution_count": 48,
   "metadata": {},
   "outputs": [
    {
     "ename": "AttributeError",
     "evalue": "'MDNDensityEstimator' object has no attribute 'set_context'",
     "output_type": "error",
     "traceback": [
      "\u001b[0;31m---------------------------------------------------------------------------\u001b[0m",
      "\u001b[0;31mAttributeError\u001b[0m                            Traceback (most recent call last)",
      "Cell \u001b[0;32mIn[48], line 1\u001b[0m\n\u001b[0;32m----> 1\u001b[0m \u001b[43mmdn_density_est\u001b[49m\u001b[38;5;241;43m.\u001b[39;49m\u001b[43mset_context\u001b[49m(xo)\n",
      "File \u001b[0;32m~/Applications/miniforge3/envs/sbi/lib/python3.10/site-packages/torch/nn/modules/module.py:1688\u001b[0m, in \u001b[0;36mModule.__getattr__\u001b[0;34m(self, name)\u001b[0m\n\u001b[1;32m   1686\u001b[0m     \u001b[38;5;28;01mif\u001b[39;00m name \u001b[38;5;129;01min\u001b[39;00m modules:\n\u001b[1;32m   1687\u001b[0m         \u001b[38;5;28;01mreturn\u001b[39;00m modules[name]\n\u001b[0;32m-> 1688\u001b[0m \u001b[38;5;28;01mraise\u001b[39;00m \u001b[38;5;167;01mAttributeError\u001b[39;00m(\u001b[38;5;124mf\u001b[39m\u001b[38;5;124m\"\u001b[39m\u001b[38;5;124m'\u001b[39m\u001b[38;5;132;01m{\u001b[39;00m\u001b[38;5;28mtype\u001b[39m(\u001b[38;5;28mself\u001b[39m)\u001b[38;5;241m.\u001b[39m\u001b[38;5;18m__name__\u001b[39m\u001b[38;5;132;01m}\u001b[39;00m\u001b[38;5;124m'\u001b[39m\u001b[38;5;124m object has no attribute \u001b[39m\u001b[38;5;124m'\u001b[39m\u001b[38;5;132;01m{\u001b[39;00mname\u001b[38;5;132;01m}\u001b[39;00m\u001b[38;5;124m'\u001b[39m\u001b[38;5;124m\"\u001b[39m)\n",
      "\u001b[0;31mAttributeError\u001b[0m: 'MDNDensityEstimator' object has no attribute 'set_context'"
     ]
    }
   ],
   "source": [
    "mdn_density_est.set_mixture_context(xo)"
   ]
  },
  {
   "cell_type": "code",
   "execution_count": 41,
   "metadata": {},
   "outputs": [
    {
     "data": {
      "text/plain": [
       "tensor([[-0.9261, -0.5197]], grad_fn=<ViewBackward0>)"
      ]
     },
     "execution_count": 41,
     "metadata": {},
     "output_type": "execute_result"
    }
   ],
   "source": [
    "mdn_density_est.sample((1,))"
   ]
  }
 ],
 "metadata": {
  "kernelspec": {
   "display_name": "sbi",
   "language": "python",
   "name": "python3"
  },
  "language_info": {
   "codemirror_mode": {
    "name": "ipython",
    "version": 3
   },
   "file_extension": ".py",
   "mimetype": "text/x-python",
   "name": "python",
   "nbconvert_exporter": "python",
   "pygments_lexer": "ipython3",
   "version": "3.10.13"
  }
 },
 "nbformat": 4,
 "nbformat_minor": 2
}

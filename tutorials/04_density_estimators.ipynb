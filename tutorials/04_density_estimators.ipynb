{
 "cells": [
  {
   "cell_type": "markdown",
   "metadata": {},
   "source": [
    "# Customizing the density estimator\n"
   ]
  },
  {
   "cell_type": "markdown",
   "metadata": {},
   "source": [
    "`sbi` allows to specify a custom density estimator for each of the implemented methods. For all options, check the API reference [here](https://sbi-dev.github.io/sbi/reference/#models).\n"
   ]
  },
  {
   "cell_type": "markdown",
   "metadata": {},
   "source": [
    "## Changing the type of density estimator\n"
   ]
  },
  {
   "cell_type": "markdown",
   "metadata": {},
   "source": [
    "You can use pre-configured density estimators by passing a string in the `density_estimator` keyword argument to the inference object (`SNPE` or `SNLE`). For example, using \"maf\" selects a Masked Autoregressive Flow, while \"nsf\" opts for a Neural Spline Flow with default hyperparameters.\n"
   ]
  },
  {
   "cell_type": "code",
   "execution_count": 1,
   "metadata": {},
   "outputs": [],
   "source": [
    "# Imports\n",
    "import torch\n",
    "\n",
    "from sbi.inference import SNPE, SNRE\n",
    "from sbi.utils import BoxUniform"
   ]
  },
  {
   "cell_type": "code",
   "execution_count": null,
   "metadata": {},
   "outputs": [],
   "source": [
    "# Define prior\n",
    "prior = utils.BoxUniform(low=-2 * torch.ones(num_dim), high=2 * torch.ones(num_dim))\n",
    "\n",
    "# Create an inference object using SNPE\n",
    "inference = SNPE(prior=prior, density_estimator=\"maf\")\n",
    "\n",
    "# Create an inference object using SNRE\n",
    "inference = SNRE(prior=prior, classifier=\"resnet\")"
   ]
  },
  {
   "cell_type": "markdown",
   "metadata": {},
   "source": [
    "> Note: In the case of `SNRE`, the argument is called `classifier`.\n"
   ]
  },
  {
   "cell_type": "markdown",
   "metadata": {},
   "source": [
    "## Changing hyperparameters of density estimators\n"
   ]
  },
  {
   "cell_type": "markdown",
   "metadata": {},
   "source": [
    "Alternatively, you can use a set of utils functions to configure a density estimator yourself, e.g., use a MAF with hyperparameters chosen for your problem at hand.\n",
    "\n",
    "In this example, because we want to use SN*P*E, we specifiy a neural network targeting the _posterior_ (using the utils function `posterior_nn`). We will create a neural spline flow (`'nsf'`) with `60` hidden units and `3` transform layers:\n"
   ]
  },
  {
   "cell_type": "code",
   "execution_count": 4,
   "metadata": {},
   "outputs": [],
   "source": [
    "# For SNLE: likelihood_nn(). For SNRE: classifier_nn()\n",
    "from sbi.neural_nets import posterior_nn\n",
    "\n",
    "# Define a custum neural spline flow (nsf) as the neural density estimator\n",
    "density_estimator_build_fun = posterior_nn(\n",
    "    model=\"nsf\", hidden_features=60, num_transforms=3\n",
    ")\n",
    "# Initialize an SNPE inference object\n",
    "inference = SNPE(prior=prior, density_estimator=density_estimator_build_fun)"
   ]
  },
  {
   "cell_type": "markdown",
   "metadata": {},
   "source": [
    "It is also possible to pass an `embedding_net` to `posterior_nn()` to learn summary statistics from high-dimensional simulation outputs. You can find a more detailed tutorial on this [here](https://sbi-dev.github.io/sbi/tutorial/05_embedding_net/).\n"
   ]
  },
  {
   "cell_type": "markdown",
   "metadata": {},
   "source": [
    "## Building new density estimators from scratch\n"
   ]
  },
  {
   "cell_type": "markdown",
   "metadata": {},
   "source": [
    "Finally, you can implement your own density estimator from scratch. This could involve integrating embedding networks for data preprocessing or adopting a custum density estimator architecture.\n",
    "\n",
    "\n",
    "For this, the `density_estimator` argument needs to be a function that takes `theta` and `x` batches as arguments.\n",
    "It then constructs the density estimator based on these arguments after the initial batch of simulations is completed.\n",
    "\n",
    "The factory functions located in `sbi/neural_nets/factory.py` are structured to return a function of this nature, serving as a template for building your custom estimator."
   ]
  },
 ],
 "metadata": {
  "kernelspec": {
   "display_name": "Python 3 (ipykernel)",
   "language": "python",
   "name": "python3"
  },
  "language_info": {
   "codemirror_mode": {
    "name": "ipython",
    "version": 3
   },
   "file_extension": ".py",
   "mimetype": "text/x-python",
   "name": "python",
   "nbconvert_exporter": "python",
   "pygments_lexer": "ipython3",
   "version": "3.9.17"
  }
 },
 "nbformat": 4,
 "nbformat_minor": 4
}
